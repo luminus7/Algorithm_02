{
 "cells": [
  {
   "cell_type": "markdown",
   "id": "therapeutic-superior",
   "metadata": {},
   "source": [
    "# Assignment_5\n",
    "### Open Source SW project(Deep Learning)"
   ]
  },
  {
   "cell_type": "markdown",
   "id": "united-sympathy",
   "metadata": {},
   "source": [
    "### Import library"
   ]
  },
  {
   "cell_type": "code",
   "execution_count": 1,
   "id": "unauthorized-steering",
   "metadata": {},
   "outputs": [],
   "source": [
    "import tensorflow as tf\n",
    "from tensorflow import keras\n",
    "from tensorflow.keras import layers, models\n",
    "import numpy as np\n",
    "import matplotlib.pyplot as plt"
   ]
  },
  {
   "cell_type": "markdown",
   "id": "transsexual-columbia",
   "metadata": {},
   "source": [
    "### Load the MNIST dataset\n",
    "* Split data into (train_images, train_labels) and (test_images, test_labels).  \n",
    "\n",
    "\n",
    "* train_images: (60000, 28, 28)\n",
    "* train_labels: (60000,)\n",
    "* test_images : (10000, 28, 28)\n",
    "* test_labels : (10000,)   \n",
    "\n",
    "\n",
    "* Above matrix shows that, there are total **60000 train images and labels** for training model. (**6000 images for single class**)\n",
    "* Also, **10000 test images** and labels for testing.\n",
    "* Shape of each **data(feature)** is **28x28** (pixel)\n",
    "\n",
    "\n",
    "* The **range of label: 0 ... 9** (10 labels)\n",
    "```python\n",
    "print(max(train_labels))    # 9\n",
    "print(min(train_labels))    # 0\n",
    "print(max(test_labels))     # 9\n",
    "print(min(test_labels))     # 0\n",
    "```"
   ]
  },
  {
   "cell_type": "code",
   "execution_count": 2,
   "id": "plain-enzyme",
   "metadata": {},
   "outputs": [],
   "source": [
    "mnist = keras.datasets.mnist\n",
    "(train_images, train_labels), (test_images, test_labels) = mnist.load_data()"
   ]
  },
  {
   "cell_type": "markdown",
   "id": "instructional-richards",
   "metadata": {},
   "source": [
    "### Plot first train image\n",
    "* value is close to 0: dark\n",
    "* value is close to 255: white"
   ]
  },
  {
   "cell_type": "code",
   "execution_count": 3,
   "id": "significant-judgment",
   "metadata": {},
   "outputs": [
    {
     "data": {
      "image/png": "[encoded data removed]",
      "text/plain": [
       "<Figure size 432x288 with 10 Axes>"
      ]
     },
     "metadata": {},
     "output_type": "display_data"
    },
    {
     "name": "stdout",
     "output_type": "stream",
     "text": [
      "\n",
      "Train labels match with Train label sequentially\n",
      " [5 0 4 1 9 2 1 3 1 4]\n"
     ]
    }
   ],
   "source": [
    "def plot_train_images(title, iter_num):\n",
    "    for i in range(iter_num):\n",
    "        plt.subplot(1, iter_num, i+1)\n",
    "        plt.xticks([])\n",
    "        plt.yticks([])\n",
    "        plt.imshow(train_images[i])\n",
    "    \n",
    "    plt.title(title)\n",
    "    plt.tight_layout()\n",
    "    plt.show()\n",
    "    print('\\nTrain labels match with Train label sequentially\\n', train_labels[:iter_num])\n",
    "\n",
    "title = 'First 10 Train images in MNIST dataset'\n",
    "plot_train_images(title, 10)"
   ]
  },
  {
   "cell_type": "markdown",
   "id": "biblical-genealogy",
   "metadata": {},
   "source": [
    "### Change data shape (60000 x 28 x 28) -> (60000 x 28 x 28 x 1)\n",
    "* **Tip**: reshape에 1-이 들어가면 해당 열, 혹은 행을 자동으로 정렬해준다."
   ]
  },
  {
   "cell_type": "code",
   "execution_count": 4,
   "id": "complex-output",
   "metadata": {},
   "outputs": [],
   "source": [
    "train_images = tf.reshape(train_images, [-1, 28, 28, 1])    # (60000, 28, 28, 1)\n",
    "test_images = tf.reshape(test_images, [-1, 28, 28, 1])      # (10000, 28, 28, 1)"
   ]
  },
  {
   "cell_type": "markdown",
   "id": "painful-luxury",
   "metadata": {},
   "source": [
    "### Select one Convolution model below (3 example models.)\n",
    "\n",
    "---\n",
    "<center>:: Models ::</center>\n",
    "\n",
    "|            |Layers|Convolution layer|\n",
    "|------------|:----:|:---------------:|\n",
    "|**Model1**|3|1|\n",
    "|**Model2**|5|2|\n",
    "|**Model3**|7|4|\n",
    "\n",
    "---"
   ]
  },
  {
   "cell_type": "code",
   "execution_count": 5,
   "id": "genuine-strike",
   "metadata": {},
   "outputs": [],
   "source": [
    "def select_model(model_number):\n",
    "    if model_number == 1:\n",
    "        model = keras.models.Sequential([\n",
    "                    keras.layers.Conv2D(32, (3,3), activation = 'relu', input_shape = (28, 28,1)),  # layer 1 \n",
    "                    keras.layers.MaxPool2D((2,2)),                                                  # layer 2 \n",
    "                    keras.layers.Flatten(),\n",
    "                    keras.layers.Dense(10, activation = 'softmax')])                                # layer 3\n",
    "\n",
    "    if model_number == 2:\n",
    "        model = keras.models.Sequential([\n",
    "                    keras.layers.Conv2D(32, (3,3), activation = 'relu', input_shape=(28,28,1)),     # layer 1 \n",
    "                    keras.layers.MaxPool2D((2,2)),                                                  # layer 2\n",
    "                    keras.layers.Conv2D(64, (3,3), activation = 'relu'),                            # layer 3 \n",
    "                    keras.layers.MaxPool2D((2,2)),                                                  # layer 4\n",
    "                    keras.layers.Flatten(),\n",
    "                    keras.layers.Dense(10, activation = 'softmax')])                                # layer 5\n",
    "                    \n",
    "    if model_number == 3: \n",
    "        model = keras.models.Sequential([\n",
    "                    keras.layers.Conv2D(32, (3,3), activation = 'relu', input_shape = (28, 28,1)),  # layer 1\n",
    "                    keras.layers.MaxPool2D((2,2)),                                                  # layer 2\n",
    "                    keras.layers.Conv2D(64, (3,3), activation = 'relu'),                            # layer 3\n",
    "                    keras.layers.Conv2D(64, (3,3), activation = 'relu'),                            # layer 4\n",
    "                    keras.layers.MaxPool2D((2,2)),                                                  # layer 5\n",
    "                    keras.layers.Conv2D(128, (3,3), activation = 'relu'),                           # layer 6\n",
    "                    keras.layers.Flatten(),\n",
    "                    keras.layers.Dense(10, activation = 'softmax')])                                # layer 7\n",
    "    \n",
    "    return model"
   ]
  },
  {
   "cell_type": "code",
   "execution_count": 14,
   "id": "chubby-arnold",
   "metadata": {},
   "outputs": [],
   "source": [
    "model = select_model(1)"
   ]
  },
  {
   "cell_type": "code",
   "execution_count": 15,
   "id": "continuing-murray",
   "metadata": {},
   "outputs": [],
   "source": [
    "#model.summary()"
   ]
  },
  {
   "cell_type": "markdown",
   "id": "extensive-bundle",
   "metadata": {},
   "source": [
    "sample output of ```model.summary()```\n",
    "```text\n",
    "Model: \"sequential\"\n",
    "_________________________________________________________________\n",
    "Layer (type)                 Output Shape              Param #   \n",
    "=================================================================\n",
    "conv2d (Conv2D)              (None, 26, 26, 32)        320       \n",
    "_________________________________________________________________\n",
    "max_pooling2d (MaxPooling2D) (None, 13, 13, 32)        0         \n",
    "_________________________________________________________________\n",
    "flatten (Flatten)            (None, 5408)              0         \n",
    "_________________________________________________________________\n",
    "dense (Dense)                (None, 10)                54090     \n",
    "=================================================================\n",
    "Total params: 54,410\n",
    "Trainable params: 54,410\n",
    "Non-trainable params: 0\n",
    "_________________________________________________________________\n",
    "\n",
    "\n",
    "\n",
    "Model: \"sequential_1\"\n",
    "_________________________________________________________________\n",
    "Layer (type)                 Output Shape              Param #   \n",
    "=================================================================\n",
    "conv2d_1 (Conv2D)            (None, 26, 26, 32)        320       \n",
    "_________________________________________________________________\n",
    "max_pooling2d_1 (MaxPooling2 (None, 13, 13, 32)        0         \n",
    "_________________________________________________________________\n",
    "conv2d_2 (Conv2D)            (None, 11, 11, 64)        18496     \n",
    "_________________________________________________________________\n",
    "max_pooling2d_2 (MaxPooling2 (None, 5, 5, 64)          0         \n",
    "_________________________________________________________________\n",
    "flatten_1 (Flatten)          (None, 1600)              0         \n",
    "_________________________________________________________________\n",
    "dense_1 (Dense)              (None, 10)                16010     \n",
    "=================================================================\n",
    "Total params: 34,826\n",
    "Trainable params: 34,826\n",
    "Non-trainable params: 0\n",
    "_________________________________________________________________\n",
    "\n",
    "\n",
    "Model: \"sequential_2\"\n",
    "_________________________________________________________________\n",
    "Layer (type)                 Output Shape              Param #   \n",
    "=================================================================\n",
    "conv2d_3 (Conv2D)            (None, 26, 26, 32)        320       \n",
    "_________________________________________________________________\n",
    "max_pooling2d_3 (MaxPooling2 (None, 13, 13, 32)        0         \n",
    "_________________________________________________________________\n",
    "conv2d_4 (Conv2D)            (None, 11, 11, 64)        18496     \n",
    "_________________________________________________________________\n",
    "conv2d_5 (Conv2D)            (None, 9, 9, 64)          36928     \n",
    "_________________________________________________________________\n",
    "max_pooling2d_4 (MaxPooling2 (None, 4, 4, 64)          0         \n",
    "_________________________________________________________________\n",
    "conv2d_6 (Conv2D)            (None, 2, 2, 128)         73856     \n",
    "_________________________________________________________________\n",
    "flatten_2 (Flatten)          (None, 512)               0         \n",
    "_________________________________________________________________\n",
    "dense_2 (Dense)              (None, 10)                5130      \n",
    "=================================================================\n",
    "Total params: 134,730\n",
    "Trainable params: 134,730\n",
    "Non-trainable params: 0\n",
    "_________________________________________________________________\n",
    "```"
   ]
  },
  {
   "cell_type": "markdown",
   "id": "mineral-object",
   "metadata": {},
   "source": [
    "### Components in training step\n",
    "``` Optimizer ```\n",
    "``` Loss function ```\n",
    "``` accuracy metrics ```"
   ]
  },
  {
   "cell_type": "code",
   "execution_count": 16,
   "id": "quantitative-extreme",
   "metadata": {},
   "outputs": [],
   "source": [
    "model.compile(\n",
    "    optimizer = 'adam',\n",
    "    loss = 'sparse_categorical_crossentropy',\n",
    "    metrics = ['accuracy']\n",
    ")"
   ]
  },
  {
   "cell_type": "markdown",
   "id": "varied-delta",
   "metadata": {},
   "source": [
    "### Training Step\n",
    "* **Training for 5 epochs**"
   ]
  },
  {
   "cell_type": "code",
   "execution_count": 17,
   "id": "distant-reason",
   "metadata": {},
   "outputs": [
    {
     "name": "stdout",
     "output_type": "stream",
     "text": [
      "Epoch 1/5\n",
      "1875/1875 [==============================] - 7s 3ms/step - loss: 0.5612 - accuracy: 0.9412\n",
      "Epoch 2/5\n",
      "1875/1875 [==============================] - 6s 3ms/step - loss: 0.0834 - accuracy: 0.9751\n",
      "Epoch 3/5\n",
      "1875/1875 [==============================] - 6s 3ms/step - loss: 0.0684 - accuracy: 0.9793\n",
      "Epoch 4/5\n",
      "1875/1875 [==============================] - 7s 4ms/step - loss: 0.0634 - accuracy: 0.9808\n",
      "Epoch 5/5\n",
      "1875/1875 [==============================] - 7s 4ms/step - loss: 0.0554 - accuracy: 0.9839\n"
     ]
    },
    {
     "data": {
      "text/plain": [
       "<tensorflow.python.keras.callbacks.History at 0x7f499864fd00>"
      ]
     },
     "execution_count": 17,
     "metadata": {},
     "output_type": "execute_result"
    }
   ],
   "source": [
    "model.fit(train_images, train_labels,  epochs = 5)"
   ]
  },
  {
   "cell_type": "code",
   "execution_count": null,
   "id": "embedded-object",
   "metadata": {},
   "outputs": [],
   "source": []
  }
 ],
 "metadata": {
  "kernelspec": {
   "display_name": "Python 3",
   "language": "python",
   "name": "python3"
  },
  "language_info": {
   "codemirror_mode": {
    "name": "ipython",
    "version": 3
   },
   "file_extension": ".py",
   "mimetype": "text/x-python",
   "name": "python",
   "nbconvert_exporter": "python",
   "pygments_lexer": "ipython3",
   "version": "3.8.5"
  }
 },
 "nbformat": 4,
 "nbformat_minor": 5
}
