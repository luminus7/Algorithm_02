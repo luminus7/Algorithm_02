{
 "cells": [
  {
   "cell_type": "markdown",
   "id": "final-banks",
   "metadata": {},
   "source": [
    "# Assignment_5\n",
    "### Open Source SW project(Deep Learning)"
   ]
  },
  {
   "cell_type": "markdown",
   "id": "accessible-campus",
   "metadata": {},
   "source": [
    "* Run the provided code in Jupyter Notebook('./TensorFlow_mnist_example.ipynb') for three different convolutional neural networks (CNNs) for the popular classification dataset, MNIST, on your machine."
   ]
  },
  {
   "cell_type": "markdown",
   "id": "stretch-learning",
   "metadata": {},
   "source": [
    "### Import library"
   ]
  },
  {
   "cell_type": "code",
   "execution_count": 1,
   "id": "boring-swedish",
   "metadata": {},
   "outputs": [],
   "source": [
    "import tensorflow as tf\n",
    "from tensorflow import keras\n",
    "from tensorflow.keras import layers, models\n",
    "import numpy as np\n",
    "import matplotlib.pyplot as plt"
   ]
  },
  {
   "cell_type": "markdown",
   "id": "surgical-cutting",
   "metadata": {},
   "source": [
    "### Load the MNIST dataset\n",
    "* Split data into (train_images, train_labels) and (test_images, test_labels).  \n",
    "\n",
    "\n",
    "* train_images: (60000, 28, 28)\n",
    "* train_labels: (60000,)\n",
    "* test_images : (10000, 28, 28)\n",
    "* test_labels : (10000,)   \n",
    "\n",
    "\n",
    "* Above matrix shows that, there are total **60000 train images and labels** for training model. (**6000 images for single class**)\n",
    "* Also, **10000 test images** and labels for testing.\n",
    "* Shape of each **data(feature)** is **28x28** (pixel)\n",
    "\n",
    "\n",
    "* The **range of label: 0 ... 9** (10 labels)\n",
    "```python\n",
    "print(max(train_labels))    # 9\n",
    "print(min(train_labels))    # 0\n",
    "print(max(test_labels))     # 9\n",
    "print(min(test_labels))     # 0\n",
    "```"
   ]
  },
  {
   "cell_type": "code",
   "execution_count": 2,
   "id": "plain-enzyme",
   "metadata": {},
   "outputs": [],
   "source": [
    "mnist = keras.datasets.mnist\n",
    "(train_images, train_labels), (test_images, test_labels) = mnist.load_data()"
   ]
  },
  {
   "cell_type": "markdown",
   "id": "ecological-savage",
   "metadata": {},
   "source": [
    "### Plot first train image\n",
    "* value is close to 0: dark\n",
    "* value is close to 255: white"
   ]
  },
  {
   "cell_type": "code",
   "execution_count": 3,
   "id": "compact-western",
   "metadata": {},
   "outputs": [
    {
     "data": {
      "image/png": "[encoded data removed]",
      "text/plain": [
       "<Figure size 432x288 with 10 Axes>"
      ]
     },
     "metadata": {},
     "output_type": "display_data"
    },
    {
     "name": "stdout",
     "output_type": "stream",
     "text": [
      "\n",
      "Train labels match with Train label sequentially\n",
      " [5 0 4 1 9 2 1 3 1 4]\n"
     ]
    }
   ],
   "source": [
    "def plot_train_images(title, iter_num):\n",
    "    for i in range(iter_num):\n",
    "        plt.subplot(1, iter_num, i+1)\n",
    "        plt.xticks([])\n",
    "        plt.yticks([])\n",
    "        plt.imshow(train_images[i])\n",
    "    \n",
    "    plt.title(title)\n",
    "    plt.tight_layout()\n",
    "    plt.show()\n",
    "    print('\\nTrain labels match with Train label sequentially\\n', train_labels[:iter_num])\n",
    "\n",
    "title = 'First 10 Train images in MNIST dataset'\n",
    "plot_train_images(title, 10)"
   ]
  },
  {
   "cell_type": "markdown",
   "id": "destroyed-pricing",
   "metadata": {},
   "source": [
    "### Change data shape (60000 x 28 x 28) -> (60000 x 28 x 28 x 1)\n",
    "* **Tip**: reshape에 1-이 들어가면 해당 열, 혹은 행을 자동으로 정렬해준다."
   ]
  },
  {
   "cell_type": "code",
   "execution_count": 4,
   "id": "legitimate-gazette",
   "metadata": {},
   "outputs": [],
   "source": [
    "train_images = tf.reshape(train_images, [-1, 28, 28, 1])    # (60000, 28, 28, 1)\n",
    "test_images = tf.reshape(test_images, [-1, 28, 28, 1])      # (10000, 28, 28, 1)"
   ]
  },
  {
   "cell_type": "markdown",
   "id": "exciting-minimum",
   "metadata": {},
   "source": [
    "### Select one Convolution model below (3 example models.)\n",
    "\n",
    "---\n",
    "<center>:: Models ::</center>\n",
    "\n",
    "|            |Layers|Convolution layer|\n",
    "|------------|:----:|:---------------:|\n",
    "|**Model1**|3|1|\n",
    "|**Model2**|5|2|\n",
    "|**Model3**|7|4|\n",
    "\n",
    "---\n",
    "\n",
    "* Easiest way to build a model is to use function \"sequential\""
   ]
  },
  {
   "cell_type": "code",
   "execution_count": 5,
   "id": "confidential-access",
   "metadata": {},
   "outputs": [],
   "source": [
    "def select_model(model_number):\n",
    "    if model_number == 1:\n",
    "        model = keras.models.Sequential([\n",
    "                    keras.layers.Conv2D(32, (3,3), activation = 'relu', input_shape = (28, 28,1)),  # layer 1 \n",
    "                    keras.layers.MaxPool2D((2,2)),                                                  # layer 2 \n",
    "                    keras.layers.Flatten(),\n",
    "                    keras.layers.Dense(10, activation = 'softmax')])                                # layer 3\n",
    "\n",
    "    if model_number == 2:\n",
    "        model = keras.models.Sequential([\n",
    "                    keras.layers.Conv2D(32, (3,3), activation = 'relu', input_shape=(28,28,1)),     # layer 1 \n",
    "                    keras.layers.MaxPool2D((2,2)),                                                  # layer 2\n",
    "                    keras.layers.Conv2D(64, (3,3), activation = 'relu'),                            # layer 3 \n",
    "                    keras.layers.MaxPool2D((2,2)),                                                  # layer 4\n",
    "                    keras.layers.Flatten(),\n",
    "                    keras.layers.Dense(10, activation = 'softmax')])                                # layer 5\n",
    "                    \n",
    "    if model_number == 3: \n",
    "        model = keras.models.Sequential([\n",
    "                    keras.layers.Conv2D(32, (3,3), activation = 'relu', input_shape = (28, 28,1)),  # layer 1\n",
    "                    keras.layers.MaxPool2D((2,2)),                                                  # layer 2\n",
    "                    keras.layers.Conv2D(64, (3,3), activation = 'relu'),                            # layer 3\n",
    "                    keras.layers.Conv2D(64, (3,3), activation = 'relu'),                            # layer 4\n",
    "                    keras.layers.MaxPool2D((2,2)),                                                  # layer 5\n",
    "                    keras.layers.Conv2D(128, (3,3), activation = 'relu'),                           # layer 6\n",
    "                    keras.layers.Flatten(),\n",
    "                    keras.layers.Dense(10, activation = 'softmax')])                                # layer 7\n",
    "    \n",
    "    return model"
   ]
  },
  {
   "cell_type": "code",
   "execution_count": 29,
   "id": "aggregate-restaurant",
   "metadata": {},
   "outputs": [],
   "source": [
    "model = select_model(3)"
   ]
  },
  {
   "cell_type": "code",
   "execution_count": 30,
   "id": "simplified-aside",
   "metadata": {},
   "outputs": [],
   "source": [
    "#model.summary()"
   ]
  },
  {
   "cell_type": "markdown",
   "id": "missing-grain",
   "metadata": {},
   "source": [
    "sample output of ```model.summary()```\n",
    "```text\n",
    "Model: \"sequential\"\n",
    "_________________________________________________________________\n",
    "Layer (type)                 Output Shape              Param #   \n",
    "=================================================================\n",
    "conv2d (Conv2D)              (None, 26, 26, 32)        320       \n",
    "_________________________________________________________________\n",
    "max_pooling2d (MaxPooling2D) (None, 13, 13, 32)        0         \n",
    "_________________________________________________________________\n",
    "flatten (Flatten)            (None, 5408)              0         \n",
    "_________________________________________________________________\n",
    "dense (Dense)                (None, 10)                54090     \n",
    "=================================================================\n",
    "Total params: 54,410\n",
    "Trainable params: 54,410\n",
    "Non-trainable params: 0\n",
    "_________________________________________________________________\n",
    "\n",
    "\n",
    "\n",
    "Model: \"sequential_1\"\n",
    "_________________________________________________________________\n",
    "Layer (type)                 Output Shape              Param #   \n",
    "=================================================================\n",
    "conv2d_1 (Conv2D)            (None, 26, 26, 32)        320       \n",
    "_________________________________________________________________\n",
    "max_pooling2d_1 (MaxPooling2 (None, 13, 13, 32)        0         \n",
    "_________________________________________________________________\n",
    "conv2d_2 (Conv2D)            (None, 11, 11, 64)        18496     \n",
    "_________________________________________________________________\n",
    "max_pooling2d_2 (MaxPooling2 (None, 5, 5, 64)          0         \n",
    "_________________________________________________________________\n",
    "flatten_1 (Flatten)          (None, 1600)              0         \n",
    "_________________________________________________________________\n",
    "dense_1 (Dense)              (None, 10)                16010     \n",
    "=================================================================\n",
    "Total params: 34,826\n",
    "Trainable params: 34,826\n",
    "Non-trainable params: 0\n",
    "_________________________________________________________________\n",
    "\n",
    "\n",
    "Model: \"sequential_2\"\n",
    "_________________________________________________________________\n",
    "Layer (type)                 Output Shape              Param #   \n",
    "=================================================================\n",
    "conv2d_3 (Conv2D)            (None, 26, 26, 32)        320       \n",
    "_________________________________________________________________\n",
    "max_pooling2d_3 (MaxPooling2 (None, 13, 13, 32)        0         \n",
    "_________________________________________________________________\n",
    "conv2d_4 (Conv2D)            (None, 11, 11, 64)        18496     \n",
    "_________________________________________________________________\n",
    "conv2d_5 (Conv2D)            (None, 9, 9, 64)          36928     \n",
    "_________________________________________________________________\n",
    "max_pooling2d_4 (MaxPooling2 (None, 4, 4, 64)          0         \n",
    "_________________________________________________________________\n",
    "conv2d_6 (Conv2D)            (None, 2, 2, 128)         73856     \n",
    "_________________________________________________________________\n",
    "flatten_2 (Flatten)          (None, 512)               0         \n",
    "_________________________________________________________________\n",
    "dense_2 (Dense)              (None, 10)                5130      \n",
    "=================================================================\n",
    "Total params: 134,730\n",
    "Trainable params: 134,730\n",
    "Non-trainable params: 0\n",
    "_________________________________________________________________\n",
    "```"
   ]
  },
  {
   "cell_type": "markdown",
   "id": "british-nursing",
   "metadata": {},
   "source": [
    "### Components in training step\n",
    "``` Optimizer ```\n",
    "``` Loss function ```\n",
    "``` accuracy metrics ```"
   ]
  },
  {
   "cell_type": "code",
   "execution_count": 31,
   "id": "surprising-david",
   "metadata": {},
   "outputs": [],
   "source": [
    "model.compile(\n",
    "    optimizer = 'adam',\n",
    "    loss = 'sparse_categorical_crossentropy',\n",
    "    metrics = ['accuracy']\n",
    ")"
   ]
  },
  {
   "cell_type": "markdown",
   "id": "renewable-headset",
   "metadata": {},
   "source": [
    "### Training Step\n",
    "* **Training for 5 epochs**"
   ]
  },
  {
   "cell_type": "code",
   "execution_count": 32,
   "id": "electronic-lambda",
   "metadata": {},
   "outputs": [
    {
     "name": "stdout",
     "output_type": "stream",
     "text": [
      "Epoch 1/5\n",
      "1875/1875 [==============================] - 17s 9ms/step - loss: 0.1946 - accuracy: 0.9552\n",
      "Epoch 2/5\n",
      "1875/1875 [==============================] - 17s 9ms/step - loss: 0.0557 - accuracy: 0.9832\n",
      "Epoch 3/5\n",
      "1875/1875 [==============================] - 18s 9ms/step - loss: 0.0488 - accuracy: 0.9854\n",
      "Epoch 4/5\n",
      "1875/1875 [==============================] - 18s 9ms/step - loss: 0.0404 - accuracy: 0.9879\n",
      "Epoch 5/5\n",
      "1875/1875 [==============================] - 18s 9ms/step - loss: 0.0351 - accuracy: 0.9894\n"
     ]
    },
    {
     "data": {
      "text/plain": [
       "<tensorflow.python.keras.callbacks.History at 0x7f498e33a880>"
      ]
     },
     "execution_count": 32,
     "metadata": {},
     "output_type": "execute_result"
    }
   ],
   "source": [
    "model.fit(train_images, train_labels,  epochs = 5)"
   ]
  },
  {
   "cell_type": "markdown",
   "id": "breeding-vegetation",
   "metadata": {},
   "source": [
    "### Test Step\n",
    "* **Perform test with test data**"
   ]
  },
  {
   "cell_type": "code",
   "execution_count": 33,
   "id": "relevant-deputy",
   "metadata": {},
   "outputs": [
    {
     "name": "stdout",
     "output_type": "stream",
     "text": [
      "313/313 - 1s - loss: 0.0647 - accuracy: 0.9824\n",
      "\n",
      "Test loss :  0.0646621361374855\n",
      "Test accuracy : 0.9824000000953674\n"
     ]
    }
   ],
   "source": [
    "test_loss, accuracy = model.evaluate(test_images, test_labels, verbose = 2)\n",
    "print('\\nTest loss : ', test_loss)\n",
    "print('Test accuracy :', accuracy)"
   ]
  },
  {
   "cell_type": "markdown",
   "id": "amazing-interpretation",
   "metadata": {},
   "source": [
    "sample output of ```test with each model```\n",
    "```\n",
    "313/313 - 0s - loss: 0.1372 - accuracy: 0.9677\n",
    "\n",
    "Test loss :  0.13722403347492218\n",
    "Test accuracy : 0.9677000045776367\n",
    "\n",
    "\n",
    "313/313 - 1s - loss: 0.0604 - accuracy: 0.9848\n",
    "\n",
    "Test loss :  0.060430023819208145\n",
    "Test accuracy : 0.9847999811172485\n",
    "\n",
    "\n",
    "313/313 - 1s - loss: 0.0647 - accuracy: 0.9824\n",
    "\n",
    "Test loss :  0.0646621361374855\n",
    "Test accuracy : 0.9824000000953674\n",
    "```"
   ]
  },
  {
   "cell_type": "markdown",
   "id": "intimate-responsibility",
   "metadata": {},
   "source": [
    "### Change test image's type to float32, before prediction"
   ]
  },
  {
   "cell_type": "code",
   "execution_count": 34,
   "id": "generous-situation",
   "metadata": {},
   "outputs": [],
   "source": [
    "test_images = tf.cast(test_images, tf.float32)\n",
    "pred = model.predict(test_images)\n",
    "Number = [0,1,2,3,4,5,6,7,8,9]"
   ]
  },
  {
   "cell_type": "code",
   "execution_count": 35,
   "id": "numerous-helping",
   "metadata": {},
   "outputs": [
    {
     "name": "stdout",
     "output_type": "stream",
     "text": [
      "Prediction :  (10000, 10)\n",
      "Test labels :  (10000,)\n"
     ]
    }
   ],
   "source": [
    "print('Prediction : ', pred.shape)\n",
    "print('Test labels : ', test_labels.shape)"
   ]
  },
  {
   "cell_type": "markdown",
   "id": "determined-forest",
   "metadata": {},
   "source": [
    "### Functions for plot images, and probability"
   ]
  },
  {
   "cell_type": "code",
   "execution_count": 36,
   "id": "radio-louisiana",
   "metadata": {},
   "outputs": [],
   "source": [
    "def plot_image(i, predictions_array, true_label, img):\n",
    "  predictions_array, true_label, img = predictions_array[i], true_label[i], img[i]\n",
    "  plt.grid(False)\n",
    "  plt.xticks([])\n",
    "  plt.yticks([])\n",
    "\n",
    "  plt.imshow(img, cmap=plt.cm.binary)\n",
    "\n",
    "  predicted_label = np.argmax(predictions_array)\n",
    "  if predicted_label == true_label:\n",
    "    color = 'blue'\n",
    "  else:\n",
    "    color = 'red'\n",
    "\n",
    "  plt.xlabel(\"{} {:2.0f}% ({})\".format(Number[predicted_label],\n",
    "                                100*np.max(predictions_array),\n",
    "                                Number[true_label]),\n",
    "                                color=color)\n",
    "\n",
    "def plot_value_array(i, predictions_array, true_label):\n",
    "  predictions_array, true_label = predictions_array[i], true_label[i]\n",
    "  plt.grid(False)\n",
    "  plt.xticks([])\n",
    "  plt.yticks([])\n",
    "  thisplot = plt.bar(range(10), predictions_array, color=\"#777777\")\n",
    "  plt.ylim([0, 1])\n",
    "  predicted_label = np.argmax(predictions_array)\n",
    "  plt.xticks(Number)\n",
    "\n",
    "  thisplot[predicted_label].set_color('red')\n",
    "  thisplot[true_label].set_color('blue')"
   ]
  },
  {
   "cell_type": "code",
   "execution_count": 37,
   "id": "musical-richards",
   "metadata": {},
   "outputs": [],
   "source": [
    "# Reload data\n",
    "(train_images, train_labels), (test_images, test_labels) = mnist.load_data()"
   ]
  },
  {
   "cell_type": "code",
   "execution_count": 38,
   "id": "anonymous-sailing",
   "metadata": {},
   "outputs": [
    {
     "data": {
      "image/png": "[encoded data removed]",
      "text/plain": [
       "<Figure size 432x216 with 2 Axes>"
      ]
     },
     "metadata": {
      "needs_background": "light"
     },
     "output_type": "display_data"
    }
   ],
   "source": [
    "i = 1\n",
    "plt.figure(figsize=(6,3))\n",
    "plt.subplot(1,2,1)\n",
    "plot_image(i, pred, test_labels, test_images)\n",
    "plt.subplot(1,2,2)\n",
    "plot_value_array(i, pred,  test_labels)\n",
    "plt.show()"
   ]
  },
  {
   "cell_type": "code",
   "execution_count": 39,
   "id": "injured-painting",
   "metadata": {},
   "outputs": [
    {
     "data": {
      "image/png": "[encoded data removed]",
      "text/plain": [
       "<Figure size 864x720 with 30 Axes>"
      ]
     },
     "metadata": {
      "needs_background": "light"
     },
     "output_type": "display_data"
    }
   ],
   "source": [
    "num_rows = 5\n",
    "num_cols = 3\n",
    "num_images = num_rows*num_cols\n",
    "plt.figure(figsize=(2*2*num_cols, 2*num_rows))\n",
    "for i in range(num_images):\n",
    "  plt.subplot(num_rows, 2*num_cols, 2*i+1)\n",
    "  plot_image(i, pred, test_labels, test_images)\n",
    "  plt.subplot(num_rows, 2*num_cols, 2*i+2)\n",
    "  plot_value_array(i, pred, test_labels)\n",
    "plt.show()"
   ]
  },
  {
   "cell_type": "markdown",
   "id": "vocational-prize",
   "metadata": {},
   "source": [
    "### Plot images and probability that model predicted wrong"
   ]
  },
  {
   "cell_type": "code",
   "execution_count": 40,
   "id": "minimal-masters",
   "metadata": {},
   "outputs": [],
   "source": [
    "def error_mnist(prediction_array, true_label):\n",
    "    error_index = []\n",
    "    \n",
    "    for i in range(true_label.shape[0]):\n",
    "        if np.argmax(prediction_array[i]) != true_label[i]:\n",
    "            error_index.append(i)\n",
    "    return error_index\n",
    "\n",
    "# change num_cols, num_rows if you want to see more result.  \n",
    "def plot_error(index, prediction_array, true_label):\n",
    "    num_cols = 5\n",
    "    num_rows = 5\n",
    "    plt.figure(figsize=(2*2*num_cols, 2*num_rows))\n",
    "\n",
    "    assert len(index) < num_cols * num_rows\n",
    "    for i in range(len(index)):\n",
    "        plt.subplot(num_rows, 2*num_cols, 2*i+1)\n",
    "        idx = index[i]\n",
    "        plt.imshow(test_images[idx])\n",
    "        plt.subplot(num_rows, 2*num_cols, 2*i+2)\n",
    "        plt.bar(range(10), prediction_array[idx])\n",
    "        plt.xticks(Number)"
   ]
  },
  {
   "cell_type": "markdown",
   "id": "saved-border",
   "metadata": {},
   "source": [
    "### Find index of wrong prediction\n",
    "* Plot first 10 wrong predicted images and probability"
   ]
  },
  {
   "cell_type": "code",
   "execution_count": 41,
   "id": "spread-majority",
   "metadata": {},
   "outputs": [
    {
     "name": "stdout",
     "output_type": "stream",
     "text": [
      "[247, 259, 290, 320, 321, 445, 449, 497, 582, 593]\n"
     ]
    }
   ],
   "source": [
    "index = error_mnist(pred, test_labels)\n",
    "index_slice = index[:10]\n",
    "print(index[:10])"
   ]
  },
  {
   "cell_type": "code",
   "execution_count": 42,
   "id": "useful-while",
   "metadata": {},
   "outputs": [
    {
     "data": {
      "image/png": "[encoded data removed]",
      "text/plain": [
       "<Figure size 1440x720 with 20 Axes>"
      ]
     },
     "metadata": {
      "needs_background": "light"
     },
     "output_type": "display_data"
    }
   ],
   "source": [
    "plot_error(index_slice, pred, test_labels)"
   ]
  },
  {
   "cell_type": "markdown",
   "id": "pleased-vertical",
   "metadata": {},
   "source": [
    "### End of assignment_05"
   ]
  }
 ],
 "metadata": {
  "kernelspec": {
   "display_name": "Python 3",
   "language": "python",
   "name": "python3"
  },
  "language_info": {
   "codemirror_mode": {
    "name": "ipython",
    "version": 3
   },
   "file_extension": ".py",
   "mimetype": "text/x-python",
   "name": "python",
   "nbconvert_exporter": "python",
   "pygments_lexer": "ipython3",
   "version": "3.8.5"
  }
 },
 "nbformat": 4,
 "nbformat_minor": 5
}
